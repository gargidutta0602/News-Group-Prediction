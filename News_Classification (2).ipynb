{
  "cells": [
    {
      "cell_type": "markdown",
      "metadata": {
        "id": "IM18GLxorVGJ"
      },
      "source": [
        "**Import Libraries**"
      ]
    },
    {
      "cell_type": "code",
      "execution_count": null,
      "metadata": {
        "id": "9BX8LwLUvnlZ"
      },
      "outputs": [],
      "source": [
        "import numpy as np \n",
        "import pandas as pd\n",
        "import matplotlib.pyplot as plt\n",
        "import string, nltk\n",
        "import re\n",
        "import os\n",
        "from nltk.tokenize import word_tokenize\n",
        "from nltk.corpus import stopwords\n",
        "from nltk.stem import WordNetLemmatizer, PorterStemmer\n",
        "from sklearn.metrics import accuracy_score, precision_score,recall_score, classification_report\n"
      ]
    },
    {
      "cell_type": "code",
      "execution_count": null,
      "metadata": {
        "id": "EWweoZGymrwd"
      },
      "outputs": [],
      "source": [
        "import tensorflow \n",
        "from tensorflow import keras\n",
        "from tensorflow.keras.preprocessing.text import Tokenizer\n",
        "from tensorflow.keras.preprocessing import text, sequence\n",
        "from tensorflow.keras.preprocessing.sequence import pad_sequences\n",
        "from tensorflow.keras import layers\n",
        "from tensorflow.keras.layers import Dense,Input,Embedding,LSTM, Dropout,SimpleRNN\n",
        "from tensorflow.keras.models import Sequential\n",
        "from tensorflow.keras import optimizers"
      ]
    },
    {
      "cell_type": "code",
      "execution_count": null,
      "metadata": {
        "colab": {
          "base_uri": "https://localhost:8080/"
        },
        "id": "yrY-vOF_zsfu",
        "outputId": "142413a2-366e-403d-f290-4a14ad02120b"
      },
      "outputs": [
        {
          "output_type": "stream",
          "name": "stderr",
          "text": [
            "[nltk_data] Downloading package punkt to /root/nltk_data...\n",
            "[nltk_data]   Package punkt is already up-to-date!\n",
            "[nltk_data] Downloading package stopwords to /root/nltk_data...\n",
            "[nltk_data]   Package stopwords is already up-to-date!\n",
            "[nltk_data] Downloading package wordnet to /root/nltk_data...\n",
            "[nltk_data]   Package wordnet is already up-to-date!\n",
            "[nltk_data] Downloading package omw-1.4 to /root/nltk_data...\n",
            "[nltk_data]   Package omw-1.4 is already up-to-date!\n",
            "[nltk_data] Downloading package stopwords to /root/nltk_data...\n",
            "[nltk_data]   Package stopwords is already up-to-date!\n"
          ]
        }
      ],
      "source": [
        "punct = nltk.download('punkt')\n",
        "nltk.download('stopwords')\n",
        "nltk.download('wordnet')\n",
        "stop_words = set(stopwords.words(\"english\"))\n",
        "nltk.download('omw-1.4') \n",
        "lemma = WordNetLemmatizer()\n",
        "stemm = PorterStemmer()\n",
        "from bs4 import BeautifulSoup\n",
        "# Downloading stopwords\n",
        "nltk.download('stopwords')\n",
        "stop = set(stopwords.words('english'))\n",
        "punctuation = list(string.punctuation)\n",
        "stop.update(punctuation)"
      ]
    },
    {
      "cell_type": "code",
      "execution_count": null,
      "metadata": {
        "id": "Ujb2PsbJwKu3"
      },
      "outputs": [],
      "source": [
        "train_data = pd.read_csv(\"/content/news_topic_train.csv\", engine = \"python\")\n"
      ]
    },
    {
      "cell_type": "code",
      "execution_count": null,
      "metadata": {
        "colab": {
          "base_uri": "https://localhost:8080/",
          "height": 206
        },
        "id": "0knmsfJ9whhK",
        "outputId": "4458f6d3-d0a5-4b33-e41c-955cb4b5f10e"
      },
      "outputs": [
        {
          "output_type": "execute_result",
          "data": {
            "text/plain": [
              "     Id                              title  \\\n",
              "0  1490  Oscars steer clear of controversy   \n",
              "1  2001    Charvis set to lose fitness bid   \n",
              "2  1572   Corbett attacks 'dumbed-down TV'   \n",
              "3  1840  Sociedad set to rescue Mladenovic   \n",
              "4   610  Doors open at biggest gadget fair   \n",
              "\n",
              "                                                text          label  \n",
              "0    The Oscars nominations list has left out som...  entertainment  \n",
              "1    Flanker Colin Charvis is unlikely to play an...          sport  \n",
              "2    Ronnie Corbett has joined fellow comedy star...  entertainment  \n",
              "3    Rangers are set to loan out-of-favour midfie...          sport  \n",
              "4    Thousands of technology lovers and industry ...           tech  "
            ],
            "text/html": [
              "\n",
              "  <div id=\"df-92c67540-f75a-4627-98f2-0c6785b22a85\">\n",
              "    <div class=\"colab-df-container\">\n",
              "      <div>\n",
              "<style scoped>\n",
              "    .dataframe tbody tr th:only-of-type {\n",
              "        vertical-align: middle;\n",
              "    }\n",
              "\n",
              "    .dataframe tbody tr th {\n",
              "        vertical-align: top;\n",
              "    }\n",
              "\n",
              "    .dataframe thead th {\n",
              "        text-align: right;\n",
              "    }\n",
              "</style>\n",
              "<table border=\"1\" class=\"dataframe\">\n",
              "  <thead>\n",
              "    <tr style=\"text-align: right;\">\n",
              "      <th></th>\n",
              "      <th>Id</th>\n",
              "      <th>title</th>\n",
              "      <th>text</th>\n",
              "      <th>label</th>\n",
              "    </tr>\n",
              "  </thead>\n",
              "  <tbody>\n",
              "    <tr>\n",
              "      <th>0</th>\n",
              "      <td>1490</td>\n",
              "      <td>Oscars steer clear of controversy</td>\n",
              "      <td>The Oscars nominations list has left out som...</td>\n",
              "      <td>entertainment</td>\n",
              "    </tr>\n",
              "    <tr>\n",
              "      <th>1</th>\n",
              "      <td>2001</td>\n",
              "      <td>Charvis set to lose fitness bid</td>\n",
              "      <td>Flanker Colin Charvis is unlikely to play an...</td>\n",
              "      <td>sport</td>\n",
              "    </tr>\n",
              "    <tr>\n",
              "      <th>2</th>\n",
              "      <td>1572</td>\n",
              "      <td>Corbett attacks 'dumbed-down TV'</td>\n",
              "      <td>Ronnie Corbett has joined fellow comedy star...</td>\n",
              "      <td>entertainment</td>\n",
              "    </tr>\n",
              "    <tr>\n",
              "      <th>3</th>\n",
              "      <td>1840</td>\n",
              "      <td>Sociedad set to rescue Mladenovic</td>\n",
              "      <td>Rangers are set to loan out-of-favour midfie...</td>\n",
              "      <td>sport</td>\n",
              "    </tr>\n",
              "    <tr>\n",
              "      <th>4</th>\n",
              "      <td>610</td>\n",
              "      <td>Doors open at biggest gadget fair</td>\n",
              "      <td>Thousands of technology lovers and industry ...</td>\n",
              "      <td>tech</td>\n",
              "    </tr>\n",
              "  </tbody>\n",
              "</table>\n",
              "</div>\n",
              "      <button class=\"colab-df-convert\" onclick=\"convertToInteractive('df-92c67540-f75a-4627-98f2-0c6785b22a85')\"\n",
              "              title=\"Convert this dataframe to an interactive table.\"\n",
              "              style=\"display:none;\">\n",
              "        \n",
              "  <svg xmlns=\"http://www.w3.org/2000/svg\" height=\"24px\"viewBox=\"0 0 24 24\"\n",
              "       width=\"24px\">\n",
              "    <path d=\"M0 0h24v24H0V0z\" fill=\"none\"/>\n",
              "    <path d=\"M18.56 5.44l.94 2.06.94-2.06 2.06-.94-2.06-.94-.94-2.06-.94 2.06-2.06.94zm-11 1L8.5 8.5l.94-2.06 2.06-.94-2.06-.94L8.5 2.5l-.94 2.06-2.06.94zm10 10l.94 2.06.94-2.06 2.06-.94-2.06-.94-.94-2.06-.94 2.06-2.06.94z\"/><path d=\"M17.41 7.96l-1.37-1.37c-.4-.4-.92-.59-1.43-.59-.52 0-1.04.2-1.43.59L10.3 9.45l-7.72 7.72c-.78.78-.78 2.05 0 2.83L4 21.41c.39.39.9.59 1.41.59.51 0 1.02-.2 1.41-.59l7.78-7.78 2.81-2.81c.8-.78.8-2.07 0-2.86zM5.41 20L4 18.59l7.72-7.72 1.47 1.35L5.41 20z\"/>\n",
              "  </svg>\n",
              "      </button>\n",
              "      \n",
              "  <style>\n",
              "    .colab-df-container {\n",
              "      display:flex;\n",
              "      flex-wrap:wrap;\n",
              "      gap: 12px;\n",
              "    }\n",
              "\n",
              "    .colab-df-convert {\n",
              "      background-color: #E8F0FE;\n",
              "      border: none;\n",
              "      border-radius: 50%;\n",
              "      cursor: pointer;\n",
              "      display: none;\n",
              "      fill: #1967D2;\n",
              "      height: 32px;\n",
              "      padding: 0 0 0 0;\n",
              "      width: 32px;\n",
              "    }\n",
              "\n",
              "    .colab-df-convert:hover {\n",
              "      background-color: #E2EBFA;\n",
              "      box-shadow: 0px 1px 2px rgba(60, 64, 67, 0.3), 0px 1px 3px 1px rgba(60, 64, 67, 0.15);\n",
              "      fill: #174EA6;\n",
              "    }\n",
              "\n",
              "    [theme=dark] .colab-df-convert {\n",
              "      background-color: #3B4455;\n",
              "      fill: #D2E3FC;\n",
              "    }\n",
              "\n",
              "    [theme=dark] .colab-df-convert:hover {\n",
              "      background-color: #434B5C;\n",
              "      box-shadow: 0px 1px 3px 1px rgba(0, 0, 0, 0.15);\n",
              "      filter: drop-shadow(0px 1px 2px rgba(0, 0, 0, 0.3));\n",
              "      fill: #FFFFFF;\n",
              "    }\n",
              "  </style>\n",
              "\n",
              "      <script>\n",
              "        const buttonEl =\n",
              "          document.querySelector('#df-92c67540-f75a-4627-98f2-0c6785b22a85 button.colab-df-convert');\n",
              "        buttonEl.style.display =\n",
              "          google.colab.kernel.accessAllowed ? 'block' : 'none';\n",
              "\n",
              "        async function convertToInteractive(key) {\n",
              "          const element = document.querySelector('#df-92c67540-f75a-4627-98f2-0c6785b22a85');\n",
              "          const dataTable =\n",
              "            await google.colab.kernel.invokeFunction('convertToInteractive',\n",
              "                                                     [key], {});\n",
              "          if (!dataTable) return;\n",
              "\n",
              "          const docLinkHtml = 'Like what you see? Visit the ' +\n",
              "            '<a target=\"_blank\" href=https://colab.research.google.com/notebooks/data_table.ipynb>data table notebook</a>'\n",
              "            + ' to learn more about interactive tables.';\n",
              "          element.innerHTML = '';\n",
              "          dataTable['output_type'] = 'display_data';\n",
              "          await google.colab.output.renderOutput(dataTable, element);\n",
              "          const docLink = document.createElement('div');\n",
              "          docLink.innerHTML = docLinkHtml;\n",
              "          element.appendChild(docLink);\n",
              "        }\n",
              "      </script>\n",
              "    </div>\n",
              "  </div>\n",
              "  "
            ]
          },
          "metadata": {},
          "execution_count": 182
        }
      ],
      "source": [
        "train_data.head()"
      ]
    },
    {
      "cell_type": "code",
      "execution_count": null,
      "metadata": {
        "colab": {
          "base_uri": "https://localhost:8080/"
        },
        "id": "9cUVboFCYGy6",
        "outputId": "914a0cdd-6d97-4483-9bfd-4a008cca76d1"
      },
      "outputs": [
        {
          "output_type": "stream",
          "name": "stdout",
          "text": [
            "<class 'pandas.core.frame.DataFrame'>\n",
            "RangeIndex: 1780 entries, 0 to 1779\n",
            "Data columns (total 4 columns):\n",
            " #   Column  Non-Null Count  Dtype \n",
            "---  ------  --------------  ----- \n",
            " 0   Id      1780 non-null   int64 \n",
            " 1   title   1780 non-null   object\n",
            " 2   text    1780 non-null   object\n",
            " 3   label   1780 non-null   object\n",
            "dtypes: int64(1), object(3)\n",
            "memory usage: 55.8+ KB\n"
          ]
        }
      ],
      "source": [
        "train_data.info()"
      ]
    },
    {
      "cell_type": "code",
      "execution_count": null,
      "metadata": {
        "colab": {
          "base_uri": "https://localhost:8080/"
        },
        "id": "7PlbVQDcNKEI",
        "outputId": "11b3b9d6-ce10-4ac5-a4c5-1cf90be30be0"
      },
      "outputs": [
        {
          "output_type": "execute_result",
          "data": {
            "text/plain": [
              "Id       0\n",
              "title    0\n",
              "text     0\n",
              "label    0\n",
              "dtype: int64"
            ]
          },
          "metadata": {},
          "execution_count": 184
        }
      ],
      "source": [
        "train_data.isna().sum()"
      ]
    },
    {
      "cell_type": "code",
      "source": [
        "train_data.drop(['Id'], axis=1,inplace = True)\n"
      ],
      "metadata": {
        "id": "4EGRInp85OHe"
      },
      "execution_count": null,
      "outputs": []
    },
    {
      "cell_type": "code",
      "execution_count": null,
      "metadata": {
        "id": "pTs1x7atochx"
      },
      "outputs": [],
      "source": [
        "train_data['text'] = train_data['text'] + \" \" + train_data['title']\n",
        "del train_data['title']"
      ]
    },
    {
      "cell_type": "markdown",
      "metadata": {
        "id": "iMv2Ga4no7w_"
      },
      "source": [
        "**Text preprocessing**"
      ]
    },
    {
      "cell_type": "code",
      "execution_count": null,
      "metadata": {
        "colab": {
          "base_uri": "https://localhost:8080/"
        },
        "id": "i2t1fhvuo7Ap",
        "outputId": "a24f9fc1-c207-43d2-c229-3327d13dc720"
      },
      "outputs": [
        {
          "output_type": "stream",
          "name": "stderr",
          "text": [
            "[nltk_data] Downloading package stopwords to /root/nltk_data...\n",
            "[nltk_data]   Package stopwords is already up-to-date!\n"
          ]
        }
      ],
      "source": [
        "nltk.download('stopwords')\n",
        "stop = set(stopwords.words('english'))\n",
        "punctuation = list(string.punctuation)\n",
        "stop.update(punctuation)"
      ]
    },
    {
      "cell_type": "code",
      "execution_count": null,
      "metadata": {
        "id": "Ucdaw5LODUj_"
      },
      "outputs": [],
      "source": [
        "#Removing the Html tags\n",
        "def strip_html(text):\n",
        "    soup = BeautifulSoup(text, \"html.parser\")\n",
        "    return soup.get_text()"
      ]
    },
    {
      "cell_type": "code",
      "execution_count": null,
      "metadata": {
        "id": "GDv9lAKXDWaC"
      },
      "outputs": [],
      "source": [
        "#Removing the square brackets and urls\n",
        "def remove_between_square_brackets(text):\n",
        "    text = re.sub('\\[[^]]*\\]', '', text)\n",
        "    return re.sub(r'http\\S+', '', text)"
      ]
    },
    {
      "cell_type": "code",
      "execution_count": null,
      "metadata": {
        "id": "ahHtPAXVpMLf"
      },
      "outputs": [],
      "source": [
        "#Removing the stopwords from text\n",
        "def remove_stopwords(text):\n",
        "    final_text = []\n",
        "    for i in text.split():\n",
        "        if i.strip().lower() not in stop:\n",
        "            final_text.append(i.strip())\n",
        "    return \" \".join(final_text)"
      ]
    },
    {
      "cell_type": "code",
      "execution_count": null,
      "metadata": {
        "id": "BPu0srNqDbtv"
      },
      "outputs": [],
      "source": [
        "#Removing the noisy text\n",
        "def denoise_text(text):\n",
        "    text = strip_html(text)\n",
        "    text = remove_between_square_brackets(text)\n",
        "    text = remove_stopwords(text)\n",
        "    return text"
      ]
    },
    {
      "cell_type": "code",
      "execution_count": null,
      "metadata": {
        "id": "JE7BlpTGDbpl"
      },
      "outputs": [],
      "source": [
        "#Apply function on text column\n",
        "train_data['text']=train_data['text'].apply(denoise_text)"
      ]
    },
    {
      "cell_type": "markdown",
      "metadata": {
        "id": "Gns45VjGpY4g"
      },
      "source": [
        "- Creating mapped dictionary **`Id`** with the **`label`**  column and vice versa."
      ]
    },
    {
      "cell_type": "code",
      "execution_count": null,
      "metadata": {
        "id": "jUlyZ7xZp6il"
      },
      "outputs": [],
      "source": [
        "category_to_id = {'business':0, 'tech':1, 'politics':2, 'sport':3, 'entertainment':4}\n",
        "id_to_category = {0: 'business', 1: 'tech', 2: 'politics', 3: 'sport', 4: 'entertainment'}"
      ]
    },
    {
      "cell_type": "code",
      "source": [
        "train_data"
      ],
      "metadata": {
        "colab": {
          "base_uri": "https://localhost:8080/",
          "height": 424
        },
        "id": "-WWL9opz1zts",
        "outputId": "c391fc74-aad0-4397-a988-9cb8ca0c5314"
      },
      "execution_count": null,
      "outputs": [
        {
          "output_type": "execute_result",
          "data": {
            "text/plain": [
              "                                                   text          label\n",
              "0     Oscars nominations list left controversial fil...  entertainment\n",
              "1     Flanker Colin Charvis unlikely play part Wales...          sport\n",
              "2     Ronnie Corbett joined fellow comedy stars Vict...  entertainment\n",
              "3     Rangers set loan out-of-favour midfielder Drag...          sport\n",
              "4     Thousands technology lovers industry experts g...           tech\n",
              "...                                                 ...            ...\n",
              "1775  Charlie Simpson took new band Fightstar stage ...  entertainment\n",
              "1776  India's defence minister opened country's Aero...       business\n",
              "1777  Fiat General Motors (GM) midnight 1 February s...       business\n",
              "1778  Shares Google fallen 6.7% employees early inve...       business\n",
              "1779  Russian authorities abide US court decisions t...       business\n",
              "\n",
              "[1780 rows x 2 columns]"
            ],
            "text/html": [
              "\n",
              "  <div id=\"df-8aed244f-48d5-495a-bf91-bccd51be9d40\">\n",
              "    <div class=\"colab-df-container\">\n",
              "      <div>\n",
              "<style scoped>\n",
              "    .dataframe tbody tr th:only-of-type {\n",
              "        vertical-align: middle;\n",
              "    }\n",
              "\n",
              "    .dataframe tbody tr th {\n",
              "        vertical-align: top;\n",
              "    }\n",
              "\n",
              "    .dataframe thead th {\n",
              "        text-align: right;\n",
              "    }\n",
              "</style>\n",
              "<table border=\"1\" class=\"dataframe\">\n",
              "  <thead>\n",
              "    <tr style=\"text-align: right;\">\n",
              "      <th></th>\n",
              "      <th>text</th>\n",
              "      <th>label</th>\n",
              "    </tr>\n",
              "  </thead>\n",
              "  <tbody>\n",
              "    <tr>\n",
              "      <th>0</th>\n",
              "      <td>Oscars nominations list left controversial fil...</td>\n",
              "      <td>entertainment</td>\n",
              "    </tr>\n",
              "    <tr>\n",
              "      <th>1</th>\n",
              "      <td>Flanker Colin Charvis unlikely play part Wales...</td>\n",
              "      <td>sport</td>\n",
              "    </tr>\n",
              "    <tr>\n",
              "      <th>2</th>\n",
              "      <td>Ronnie Corbett joined fellow comedy stars Vict...</td>\n",
              "      <td>entertainment</td>\n",
              "    </tr>\n",
              "    <tr>\n",
              "      <th>3</th>\n",
              "      <td>Rangers set loan out-of-favour midfielder Drag...</td>\n",
              "      <td>sport</td>\n",
              "    </tr>\n",
              "    <tr>\n",
              "      <th>4</th>\n",
              "      <td>Thousands technology lovers industry experts g...</td>\n",
              "      <td>tech</td>\n",
              "    </tr>\n",
              "    <tr>\n",
              "      <th>...</th>\n",
              "      <td>...</td>\n",
              "      <td>...</td>\n",
              "    </tr>\n",
              "    <tr>\n",
              "      <th>1775</th>\n",
              "      <td>Charlie Simpson took new band Fightstar stage ...</td>\n",
              "      <td>entertainment</td>\n",
              "    </tr>\n",
              "    <tr>\n",
              "      <th>1776</th>\n",
              "      <td>India's defence minister opened country's Aero...</td>\n",
              "      <td>business</td>\n",
              "    </tr>\n",
              "    <tr>\n",
              "      <th>1777</th>\n",
              "      <td>Fiat General Motors (GM) midnight 1 February s...</td>\n",
              "      <td>business</td>\n",
              "    </tr>\n",
              "    <tr>\n",
              "      <th>1778</th>\n",
              "      <td>Shares Google fallen 6.7% employees early inve...</td>\n",
              "      <td>business</td>\n",
              "    </tr>\n",
              "    <tr>\n",
              "      <th>1779</th>\n",
              "      <td>Russian authorities abide US court decisions t...</td>\n",
              "      <td>business</td>\n",
              "    </tr>\n",
              "  </tbody>\n",
              "</table>\n",
              "<p>1780 rows × 2 columns</p>\n",
              "</div>\n",
              "      <button class=\"colab-df-convert\" onclick=\"convertToInteractive('df-8aed244f-48d5-495a-bf91-bccd51be9d40')\"\n",
              "              title=\"Convert this dataframe to an interactive table.\"\n",
              "              style=\"display:none;\">\n",
              "        \n",
              "  <svg xmlns=\"http://www.w3.org/2000/svg\" height=\"24px\"viewBox=\"0 0 24 24\"\n",
              "       width=\"24px\">\n",
              "    <path d=\"M0 0h24v24H0V0z\" fill=\"none\"/>\n",
              "    <path d=\"M18.56 5.44l.94 2.06.94-2.06 2.06-.94-2.06-.94-.94-2.06-.94 2.06-2.06.94zm-11 1L8.5 8.5l.94-2.06 2.06-.94-2.06-.94L8.5 2.5l-.94 2.06-2.06.94zm10 10l.94 2.06.94-2.06 2.06-.94-2.06-.94-.94-2.06-.94 2.06-2.06.94z\"/><path d=\"M17.41 7.96l-1.37-1.37c-.4-.4-.92-.59-1.43-.59-.52 0-1.04.2-1.43.59L10.3 9.45l-7.72 7.72c-.78.78-.78 2.05 0 2.83L4 21.41c.39.39.9.59 1.41.59.51 0 1.02-.2 1.41-.59l7.78-7.78 2.81-2.81c.8-.78.8-2.07 0-2.86zM5.41 20L4 18.59l7.72-7.72 1.47 1.35L5.41 20z\"/>\n",
              "  </svg>\n",
              "      </button>\n",
              "      \n",
              "  <style>\n",
              "    .colab-df-container {\n",
              "      display:flex;\n",
              "      flex-wrap:wrap;\n",
              "      gap: 12px;\n",
              "    }\n",
              "\n",
              "    .colab-df-convert {\n",
              "      background-color: #E8F0FE;\n",
              "      border: none;\n",
              "      border-radius: 50%;\n",
              "      cursor: pointer;\n",
              "      display: none;\n",
              "      fill: #1967D2;\n",
              "      height: 32px;\n",
              "      padding: 0 0 0 0;\n",
              "      width: 32px;\n",
              "    }\n",
              "\n",
              "    .colab-df-convert:hover {\n",
              "      background-color: #E2EBFA;\n",
              "      box-shadow: 0px 1px 2px rgba(60, 64, 67, 0.3), 0px 1px 3px 1px rgba(60, 64, 67, 0.15);\n",
              "      fill: #174EA6;\n",
              "    }\n",
              "\n",
              "    [theme=dark] .colab-df-convert {\n",
              "      background-color: #3B4455;\n",
              "      fill: #D2E3FC;\n",
              "    }\n",
              "\n",
              "    [theme=dark] .colab-df-convert:hover {\n",
              "      background-color: #434B5C;\n",
              "      box-shadow: 0px 1px 3px 1px rgba(0, 0, 0, 0.15);\n",
              "      filter: drop-shadow(0px 1px 2px rgba(0, 0, 0, 0.3));\n",
              "      fill: #FFFFFF;\n",
              "    }\n",
              "  </style>\n",
              "\n",
              "      <script>\n",
              "        const buttonEl =\n",
              "          document.querySelector('#df-8aed244f-48d5-495a-bf91-bccd51be9d40 button.colab-df-convert');\n",
              "        buttonEl.style.display =\n",
              "          google.colab.kernel.accessAllowed ? 'block' : 'none';\n",
              "\n",
              "        async function convertToInteractive(key) {\n",
              "          const element = document.querySelector('#df-8aed244f-48d5-495a-bf91-bccd51be9d40');\n",
              "          const dataTable =\n",
              "            await google.colab.kernel.invokeFunction('convertToInteractive',\n",
              "                                                     [key], {});\n",
              "          if (!dataTable) return;\n",
              "\n",
              "          const docLinkHtml = 'Like what you see? Visit the ' +\n",
              "            '<a target=\"_blank\" href=https://colab.research.google.com/notebooks/data_table.ipynb>data table notebook</a>'\n",
              "            + ' to learn more about interactive tables.';\n",
              "          element.innerHTML = '';\n",
              "          dataTable['output_type'] = 'display_data';\n",
              "          await google.colab.output.renderOutput(dataTable, element);\n",
              "          const docLink = document.createElement('div');\n",
              "          docLink.innerHTML = docLinkHtml;\n",
              "          element.appendChild(docLink);\n",
              "        }\n",
              "      </script>\n",
              "    </div>\n",
              "  </div>\n",
              "  "
            ]
          },
          "metadata": {},
          "execution_count": 194
        }
      ]
    },
    {
      "cell_type": "code",
      "source": [
        "train_data = train_data.replace(category_to_id)\n",
        "train_data.head()"
      ],
      "metadata": {
        "colab": {
          "base_uri": "https://localhost:8080/",
          "height": 206
        },
        "id": "22f-E6PA02mH",
        "outputId": "6ed166a2-8c99-466e-f126-ee471a5c9d39"
      },
      "execution_count": null,
      "outputs": [
        {
          "output_type": "execute_result",
          "data": {
            "text/plain": [
              "                                                text  label\n",
              "0  Oscars nominations list left controversial fil...      4\n",
              "1  Flanker Colin Charvis unlikely play part Wales...      3\n",
              "2  Ronnie Corbett joined fellow comedy stars Vict...      4\n",
              "3  Rangers set loan out-of-favour midfielder Drag...      3\n",
              "4  Thousands technology lovers industry experts g...      1"
            ],
            "text/html": [
              "\n",
              "  <div id=\"df-772f14fa-c74c-4fce-8805-7b2019538239\">\n",
              "    <div class=\"colab-df-container\">\n",
              "      <div>\n",
              "<style scoped>\n",
              "    .dataframe tbody tr th:only-of-type {\n",
              "        vertical-align: middle;\n",
              "    }\n",
              "\n",
              "    .dataframe tbody tr th {\n",
              "        vertical-align: top;\n",
              "    }\n",
              "\n",
              "    .dataframe thead th {\n",
              "        text-align: right;\n",
              "    }\n",
              "</style>\n",
              "<table border=\"1\" class=\"dataframe\">\n",
              "  <thead>\n",
              "    <tr style=\"text-align: right;\">\n",
              "      <th></th>\n",
              "      <th>text</th>\n",
              "      <th>label</th>\n",
              "    </tr>\n",
              "  </thead>\n",
              "  <tbody>\n",
              "    <tr>\n",
              "      <th>0</th>\n",
              "      <td>Oscars nominations list left controversial fil...</td>\n",
              "      <td>4</td>\n",
              "    </tr>\n",
              "    <tr>\n",
              "      <th>1</th>\n",
              "      <td>Flanker Colin Charvis unlikely play part Wales...</td>\n",
              "      <td>3</td>\n",
              "    </tr>\n",
              "    <tr>\n",
              "      <th>2</th>\n",
              "      <td>Ronnie Corbett joined fellow comedy stars Vict...</td>\n",
              "      <td>4</td>\n",
              "    </tr>\n",
              "    <tr>\n",
              "      <th>3</th>\n",
              "      <td>Rangers set loan out-of-favour midfielder Drag...</td>\n",
              "      <td>3</td>\n",
              "    </tr>\n",
              "    <tr>\n",
              "      <th>4</th>\n",
              "      <td>Thousands technology lovers industry experts g...</td>\n",
              "      <td>1</td>\n",
              "    </tr>\n",
              "  </tbody>\n",
              "</table>\n",
              "</div>\n",
              "      <button class=\"colab-df-convert\" onclick=\"convertToInteractive('df-772f14fa-c74c-4fce-8805-7b2019538239')\"\n",
              "              title=\"Convert this dataframe to an interactive table.\"\n",
              "              style=\"display:none;\">\n",
              "        \n",
              "  <svg xmlns=\"http://www.w3.org/2000/svg\" height=\"24px\"viewBox=\"0 0 24 24\"\n",
              "       width=\"24px\">\n",
              "    <path d=\"M0 0h24v24H0V0z\" fill=\"none\"/>\n",
              "    <path d=\"M18.56 5.44l.94 2.06.94-2.06 2.06-.94-2.06-.94-.94-2.06-.94 2.06-2.06.94zm-11 1L8.5 8.5l.94-2.06 2.06-.94-2.06-.94L8.5 2.5l-.94 2.06-2.06.94zm10 10l.94 2.06.94-2.06 2.06-.94-2.06-.94-.94-2.06-.94 2.06-2.06.94z\"/><path d=\"M17.41 7.96l-1.37-1.37c-.4-.4-.92-.59-1.43-.59-.52 0-1.04.2-1.43.59L10.3 9.45l-7.72 7.72c-.78.78-.78 2.05 0 2.83L4 21.41c.39.39.9.59 1.41.59.51 0 1.02-.2 1.41-.59l7.78-7.78 2.81-2.81c.8-.78.8-2.07 0-2.86zM5.41 20L4 18.59l7.72-7.72 1.47 1.35L5.41 20z\"/>\n",
              "  </svg>\n",
              "      </button>\n",
              "      \n",
              "  <style>\n",
              "    .colab-df-container {\n",
              "      display:flex;\n",
              "      flex-wrap:wrap;\n",
              "      gap: 12px;\n",
              "    }\n",
              "\n",
              "    .colab-df-convert {\n",
              "      background-color: #E8F0FE;\n",
              "      border: none;\n",
              "      border-radius: 50%;\n",
              "      cursor: pointer;\n",
              "      display: none;\n",
              "      fill: #1967D2;\n",
              "      height: 32px;\n",
              "      padding: 0 0 0 0;\n",
              "      width: 32px;\n",
              "    }\n",
              "\n",
              "    .colab-df-convert:hover {\n",
              "      background-color: #E2EBFA;\n",
              "      box-shadow: 0px 1px 2px rgba(60, 64, 67, 0.3), 0px 1px 3px 1px rgba(60, 64, 67, 0.15);\n",
              "      fill: #174EA6;\n",
              "    }\n",
              "\n",
              "    [theme=dark] .colab-df-convert {\n",
              "      background-color: #3B4455;\n",
              "      fill: #D2E3FC;\n",
              "    }\n",
              "\n",
              "    [theme=dark] .colab-df-convert:hover {\n",
              "      background-color: #434B5C;\n",
              "      box-shadow: 0px 1px 3px 1px rgba(0, 0, 0, 0.15);\n",
              "      filter: drop-shadow(0px 1px 2px rgba(0, 0, 0, 0.3));\n",
              "      fill: #FFFFFF;\n",
              "    }\n",
              "  </style>\n",
              "\n",
              "      <script>\n",
              "        const buttonEl =\n",
              "          document.querySelector('#df-772f14fa-c74c-4fce-8805-7b2019538239 button.colab-df-convert');\n",
              "        buttonEl.style.display =\n",
              "          google.colab.kernel.accessAllowed ? 'block' : 'none';\n",
              "\n",
              "        async function convertToInteractive(key) {\n",
              "          const element = document.querySelector('#df-772f14fa-c74c-4fce-8805-7b2019538239');\n",
              "          const dataTable =\n",
              "            await google.colab.kernel.invokeFunction('convertToInteractive',\n",
              "                                                     [key], {});\n",
              "          if (!dataTable) return;\n",
              "\n",
              "          const docLinkHtml = 'Like what you see? Visit the ' +\n",
              "            '<a target=\"_blank\" href=https://colab.research.google.com/notebooks/data_table.ipynb>data table notebook</a>'\n",
              "            + ' to learn more about interactive tables.';\n",
              "          element.innerHTML = '';\n",
              "          dataTable['output_type'] = 'display_data';\n",
              "          await google.colab.output.renderOutput(dataTable, element);\n",
              "          const docLink = document.createElement('div');\n",
              "          docLink.innerHTML = docLinkHtml;\n",
              "          element.appendChild(docLink);\n",
              "        }\n",
              "      </script>\n",
              "    </div>\n",
              "  </div>\n",
              "  "
            ]
          },
          "metadata": {},
          "execution_count": 195
        }
      ]
    },
    {
      "cell_type": "code",
      "source": [
        "train_data.info()"
      ],
      "metadata": {
        "colab": {
          "base_uri": "https://localhost:8080/"
        },
        "id": "ndcVdII7xpPh",
        "outputId": "e7f2afcc-a6f1-4083-e55d-45c93da1365b"
      },
      "execution_count": null,
      "outputs": [
        {
          "output_type": "stream",
          "name": "stdout",
          "text": [
            "<class 'pandas.core.frame.DataFrame'>\n",
            "RangeIndex: 1780 entries, 0 to 1779\n",
            "Data columns (total 2 columns):\n",
            " #   Column  Non-Null Count  Dtype \n",
            "---  ------  --------------  ----- \n",
            " 0   text    1780 non-null   object\n",
            " 1   label   1780 non-null   int64 \n",
            "dtypes: int64(1), object(1)\n",
            "memory usage: 27.9+ KB\n"
          ]
        }
      ]
    },
    {
      "cell_type": "code",
      "source": [],
      "metadata": {
        "id": "iXWAO7Dd5tfm"
      },
      "execution_count": null,
      "outputs": []
    },
    {
      "cell_type": "code",
      "source": [
        "tokenizer = Tokenizer(num_words=5000)\n",
        "#here the mapping is created,  word to integer mapping (only for the top 10000)\n",
        "tokenizer.fit_on_texts(train_data['text'])\n",
        "#here the mapping is applied to the sentences\n",
        "vector = tokenizer.texts_to_sequences(train_data['text'])"
      ],
      "metadata": {
        "id": "WTUqf_uoxcog"
      },
      "execution_count": null,
      "outputs": []
    },
    {
      "cell_type": "code",
      "source": [
        "max_features = 10000\n",
        "embed_dim = 100\n",
        "#train_set = 1500"
      ],
      "metadata": {
        "id": "qcaE4e65zciP"
      },
      "execution_count": null,
      "outputs": []
    },
    {
      "cell_type": "code",
      "source": [
        "train_data"
      ],
      "metadata": {
        "colab": {
          "base_uri": "https://localhost:8080/",
          "height": 424
        },
        "id": "gSwD3ZSq6GLw",
        "outputId": "256e8225-3813-4272-c62d-8ad8c07aea49"
      },
      "execution_count": null,
      "outputs": [
        {
          "output_type": "execute_result",
          "data": {
            "text/plain": [
              "                                                   text  label\n",
              "0     Oscars nominations list left controversial fil...      4\n",
              "1     Flanker Colin Charvis unlikely play part Wales...      3\n",
              "2     Ronnie Corbett joined fellow comedy stars Vict...      4\n",
              "3     Rangers set loan out-of-favour midfielder Drag...      3\n",
              "4     Thousands technology lovers industry experts g...      1\n",
              "...                                                 ...    ...\n",
              "1775  Charlie Simpson took new band Fightstar stage ...      4\n",
              "1776  India's defence minister opened country's Aero...      0\n",
              "1777  Fiat General Motors (GM) midnight 1 February s...      0\n",
              "1778  Shares Google fallen 6.7% employees early inve...      0\n",
              "1779  Russian authorities abide US court decisions t...      0\n",
              "\n",
              "[1780 rows x 2 columns]"
            ],
            "text/html": [
              "\n",
              "  <div id=\"df-4dd00e3a-3eba-4f00-be9e-7e83197116c0\">\n",
              "    <div class=\"colab-df-container\">\n",
              "      <div>\n",
              "<style scoped>\n",
              "    .dataframe tbody tr th:only-of-type {\n",
              "        vertical-align: middle;\n",
              "    }\n",
              "\n",
              "    .dataframe tbody tr th {\n",
              "        vertical-align: top;\n",
              "    }\n",
              "\n",
              "    .dataframe thead th {\n",
              "        text-align: right;\n",
              "    }\n",
              "</style>\n",
              "<table border=\"1\" class=\"dataframe\">\n",
              "  <thead>\n",
              "    <tr style=\"text-align: right;\">\n",
              "      <th></th>\n",
              "      <th>text</th>\n",
              "      <th>label</th>\n",
              "    </tr>\n",
              "  </thead>\n",
              "  <tbody>\n",
              "    <tr>\n",
              "      <th>0</th>\n",
              "      <td>Oscars nominations list left controversial fil...</td>\n",
              "      <td>4</td>\n",
              "    </tr>\n",
              "    <tr>\n",
              "      <th>1</th>\n",
              "      <td>Flanker Colin Charvis unlikely play part Wales...</td>\n",
              "      <td>3</td>\n",
              "    </tr>\n",
              "    <tr>\n",
              "      <th>2</th>\n",
              "      <td>Ronnie Corbett joined fellow comedy stars Vict...</td>\n",
              "      <td>4</td>\n",
              "    </tr>\n",
              "    <tr>\n",
              "      <th>3</th>\n",
              "      <td>Rangers set loan out-of-favour midfielder Drag...</td>\n",
              "      <td>3</td>\n",
              "    </tr>\n",
              "    <tr>\n",
              "      <th>4</th>\n",
              "      <td>Thousands technology lovers industry experts g...</td>\n",
              "      <td>1</td>\n",
              "    </tr>\n",
              "    <tr>\n",
              "      <th>...</th>\n",
              "      <td>...</td>\n",
              "      <td>...</td>\n",
              "    </tr>\n",
              "    <tr>\n",
              "      <th>1775</th>\n",
              "      <td>Charlie Simpson took new band Fightstar stage ...</td>\n",
              "      <td>4</td>\n",
              "    </tr>\n",
              "    <tr>\n",
              "      <th>1776</th>\n",
              "      <td>India's defence minister opened country's Aero...</td>\n",
              "      <td>0</td>\n",
              "    </tr>\n",
              "    <tr>\n",
              "      <th>1777</th>\n",
              "      <td>Fiat General Motors (GM) midnight 1 February s...</td>\n",
              "      <td>0</td>\n",
              "    </tr>\n",
              "    <tr>\n",
              "      <th>1778</th>\n",
              "      <td>Shares Google fallen 6.7% employees early inve...</td>\n",
              "      <td>0</td>\n",
              "    </tr>\n",
              "    <tr>\n",
              "      <th>1779</th>\n",
              "      <td>Russian authorities abide US court decisions t...</td>\n",
              "      <td>0</td>\n",
              "    </tr>\n",
              "  </tbody>\n",
              "</table>\n",
              "<p>1780 rows × 2 columns</p>\n",
              "</div>\n",
              "      <button class=\"colab-df-convert\" onclick=\"convertToInteractive('df-4dd00e3a-3eba-4f00-be9e-7e83197116c0')\"\n",
              "              title=\"Convert this dataframe to an interactive table.\"\n",
              "              style=\"display:none;\">\n",
              "        \n",
              "  <svg xmlns=\"http://www.w3.org/2000/svg\" height=\"24px\"viewBox=\"0 0 24 24\"\n",
              "       width=\"24px\">\n",
              "    <path d=\"M0 0h24v24H0V0z\" fill=\"none\"/>\n",
              "    <path d=\"M18.56 5.44l.94 2.06.94-2.06 2.06-.94-2.06-.94-.94-2.06-.94 2.06-2.06.94zm-11 1L8.5 8.5l.94-2.06 2.06-.94-2.06-.94L8.5 2.5l-.94 2.06-2.06.94zm10 10l.94 2.06.94-2.06 2.06-.94-2.06-.94-.94-2.06-.94 2.06-2.06.94z\"/><path d=\"M17.41 7.96l-1.37-1.37c-.4-.4-.92-.59-1.43-.59-.52 0-1.04.2-1.43.59L10.3 9.45l-7.72 7.72c-.78.78-.78 2.05 0 2.83L4 21.41c.39.39.9.59 1.41.59.51 0 1.02-.2 1.41-.59l7.78-7.78 2.81-2.81c.8-.78.8-2.07 0-2.86zM5.41 20L4 18.59l7.72-7.72 1.47 1.35L5.41 20z\"/>\n",
              "  </svg>\n",
              "      </button>\n",
              "      \n",
              "  <style>\n",
              "    .colab-df-container {\n",
              "      display:flex;\n",
              "      flex-wrap:wrap;\n",
              "      gap: 12px;\n",
              "    }\n",
              "\n",
              "    .colab-df-convert {\n",
              "      background-color: #E8F0FE;\n",
              "      border: none;\n",
              "      border-radius: 50%;\n",
              "      cursor: pointer;\n",
              "      display: none;\n",
              "      fill: #1967D2;\n",
              "      height: 32px;\n",
              "      padding: 0 0 0 0;\n",
              "      width: 32px;\n",
              "    }\n",
              "\n",
              "    .colab-df-convert:hover {\n",
              "      background-color: #E2EBFA;\n",
              "      box-shadow: 0px 1px 2px rgba(60, 64, 67, 0.3), 0px 1px 3px 1px rgba(60, 64, 67, 0.15);\n",
              "      fill: #174EA6;\n",
              "    }\n",
              "\n",
              "    [theme=dark] .colab-df-convert {\n",
              "      background-color: #3B4455;\n",
              "      fill: #D2E3FC;\n",
              "    }\n",
              "\n",
              "    [theme=dark] .colab-df-convert:hover {\n",
              "      background-color: #434B5C;\n",
              "      box-shadow: 0px 1px 3px 1px rgba(0, 0, 0, 0.15);\n",
              "      filter: drop-shadow(0px 1px 2px rgba(0, 0, 0, 0.3));\n",
              "      fill: #FFFFFF;\n",
              "    }\n",
              "  </style>\n",
              "\n",
              "      <script>\n",
              "        const buttonEl =\n",
              "          document.querySelector('#df-4dd00e3a-3eba-4f00-be9e-7e83197116c0 button.colab-df-convert');\n",
              "        buttonEl.style.display =\n",
              "          google.colab.kernel.accessAllowed ? 'block' : 'none';\n",
              "\n",
              "        async function convertToInteractive(key) {\n",
              "          const element = document.querySelector('#df-4dd00e3a-3eba-4f00-be9e-7e83197116c0');\n",
              "          const dataTable =\n",
              "            await google.colab.kernel.invokeFunction('convertToInteractive',\n",
              "                                                     [key], {});\n",
              "          if (!dataTable) return;\n",
              "\n",
              "          const docLinkHtml = 'Like what you see? Visit the ' +\n",
              "            '<a target=\"_blank\" href=https://colab.research.google.com/notebooks/data_table.ipynb>data table notebook</a>'\n",
              "            + ' to learn more about interactive tables.';\n",
              "          element.innerHTML = '';\n",
              "          dataTable['output_type'] = 'display_data';\n",
              "          await google.colab.output.renderOutput(dataTable, element);\n",
              "          const docLink = document.createElement('div');\n",
              "          docLink.innerHTML = docLinkHtml;\n",
              "          element.appendChild(docLink);\n",
              "        }\n",
              "      </script>\n",
              "    </div>\n",
              "  </div>\n",
              "  "
            ]
          },
          "metadata": {},
          "execution_count": 202
        }
      ]
    },
    {
      "cell_type": "code",
      "source": [
        "x = train_data[\"text\"]\n",
        "y= train_data[\"label\"]"
      ],
      "metadata": {
        "id": "IS0fGVzSIVsE"
      },
      "execution_count": 256,
      "outputs": []
    },
    {
      "cell_type": "code",
      "source": [
        "#x_train = np.array(vector)[:train_set]\n",
        "#y_train = (np.array(train_data['label'])[:train_set])\n",
        "#x_test = np.array(vector)[train_set:]\n",
        "#y_test = (np.array(train_data['label'])[train_set:])"
      ],
      "metadata": {
        "colab": {
          "base_uri": "https://localhost:8080/"
        },
        "id": "3hNb44i5y9Iy",
        "outputId": "1d439ca1-5809-439a-cb53-bd9b3da9e8c7"
      },
      "execution_count": null,
      "outputs": [
        {
          "output_type": "stream",
          "name": "stderr",
          "text": [
            "<ipython-input-225-8fd63de6860b>:1: VisibleDeprecationWarning: Creating an ndarray from ragged nested sequences (which is a list-or-tuple of lists-or-tuples-or ndarrays with different lengths or shapes) is deprecated. If you meant to do this, you must specify 'dtype=object' when creating the ndarray.\n",
            "  x_train = np.array(vector)[:train_set]\n",
            "<ipython-input-225-8fd63de6860b>:3: VisibleDeprecationWarning: Creating an ndarray from ragged nested sequences (which is a list-or-tuple of lists-or-tuples-or ndarrays with different lengths or shapes) is deprecated. If you meant to do this, you must specify 'dtype=object' when creating the ndarray.\n",
            "  x_test = np.array(vector)[train_set:]\n"
          ]
        }
      ]
    },
    {
      "cell_type": "code",
      "source": [
        "y\n"
      ],
      "metadata": {
        "colab": {
          "base_uri": "https://localhost:8080/"
        },
        "id": "iYmtFtz_xcjN",
        "outputId": "19c2d40d-4ad9-4446-8603-fbabd8f2a5b0"
      },
      "execution_count": 257,
      "outputs": [
        {
          "output_type": "execute_result",
          "data": {
            "text/plain": [
              "0       4\n",
              "1       3\n",
              "2       4\n",
              "3       3\n",
              "4       1\n",
              "       ..\n",
              "1775    4\n",
              "1776    0\n",
              "1777    0\n",
              "1778    0\n",
              "1779    0\n",
              "Name: label, Length: 1780, dtype: int64"
            ]
          },
          "metadata": {},
          "execution_count": 257
        }
      ]
    },
    {
      "cell_type": "code",
      "source": [
        "X_train_pad = pad_sequences(vector, maxlen=embed_dim)\n"
      ],
      "metadata": {
        "id": "aoOJLHbwxcgh"
      },
      "execution_count": 252,
      "outputs": []
    },
    {
      "cell_type": "markdown",
      "source": [
        "**Y into one hot encoding**"
      ],
      "metadata": {
        "id": "pYZVdf7f7ldP"
      }
    },
    {
      "cell_type": "code",
      "source": [
        "from keras.utils import to_categorical\n",
        "y_train = to_categorical(y, dtype =\"uint8\")\n"
      ],
      "metadata": {
        "id": "od6KG1gn7kqP"
      },
      "execution_count": 258,
      "outputs": []
    },
    {
      "cell_type": "code",
      "source": [
        "y_train"
      ],
      "metadata": {
        "colab": {
          "base_uri": "https://localhost:8080/"
        },
        "id": "insz0zg3xcdo",
        "outputId": "d85d8a83-7924-48dc-d59d-a00658560402"
      },
      "execution_count": 270,
      "outputs": [
        {
          "output_type": "execute_result",
          "data": {
            "text/plain": [
              "array([[0, 0, 0, 0, 1],\n",
              "       [0, 0, 0, 1, 0],\n",
              "       [0, 0, 0, 0, 1],\n",
              "       ...,\n",
              "       [1, 0, 0, 0, 0],\n",
              "       [1, 0, 0, 0, 0],\n",
              "       [1, 0, 0, 0, 0]], dtype=uint8)"
            ]
          },
          "metadata": {},
          "execution_count": 270
        }
      ]
    },
    {
      "cell_type": "code",
      "execution_count": null,
      "metadata": {
        "colab": {
          "base_uri": "https://localhost:8080/"
        },
        "id": "NZWqMAexxEsG",
        "outputId": "2773a01e-15c8-4fbc-9be0-3afb079bbf71"
      },
      "outputs": [
        {
          "output_type": "execute_result",
          "data": {
            "text/plain": [
              "['comes software good serve two']"
            ]
          },
          "metadata": {},
          "execution_count": 208
        }
      ],
      "source": [
        "tokenizer.sequences_to_texts([[ 512,  154,   56, 1434,   14]])"
      ]
    },
    {
      "cell_type": "code",
      "source": [
        "model_rnn = Sequential()\n",
        "model_rnn.add(Embedding(10000,32, input_length=embed_dim))\n",
        "model_rnn.add(SimpleRNN(64))\n",
        "model_rnn.add(Dense(5, activation='softmax'))\n",
        "model_rnn.compile(loss='categorical_crossentropy', optimizer='adam', metrics=['accuracy'])"
      ],
      "metadata": {
        "id": "I7miOgCPbmiL"
      },
      "execution_count": null,
      "outputs": []
    },
    {
      "cell_type": "code",
      "source": [
        "EPOCHS=50\n",
        "BATCHES=30"
      ],
      "metadata": {
        "id": "gxlUvD22e-YA"
      },
      "execution_count": null,
      "outputs": []
    },
    {
      "cell_type": "code",
      "source": [
        "test_model = Sequential()\n",
        "test_model.add(Embedding(max_features, embed_dim))\n",
        "test_model.add(LSTM(units=60, activation='relu', return_sequences=False))\n",
        "test_model.add(Dropout(0.2))\n",
        "test_model.add(Dense(5, activation='softmax'))\n",
        "test_model.compile(loss ='categorical_crossentropy', optimizer='adam', metrics = ['accuracy'])"
      ],
      "metadata": {
        "id": "S4jb2SrwbmdV"
      },
      "execution_count": null,
      "outputs": []
    },
    {
      "cell_type": "code",
      "source": [
        "learning_rate_reduction = ReduceLROnPlateau(monitor='val_accuracy', patience = 2, verbose=1,factor=0.5, min_lr=0.00001)"
      ],
      "metadata": {
        "id": "NhE153SDATZ-"
      },
      "execution_count": null,
      "outputs": []
    },
    {
      "cell_type": "code",
      "source": [
        "his1 = test_model.fit(X_train_pad,y_train, epochs=EPOCHS, batch_size=BATCHES,validation_split=0.2,  )"
      ],
      "metadata": {
        "id": "cCb95Gn3bmap",
        "colab": {
          "base_uri": "https://localhost:8080/"
        },
        "outputId": "55b28675-bdd6-4b72-e572-f8be63e35cb7"
      },
      "execution_count": 260,
      "outputs": [
        {
          "output_type": "stream",
          "name": "stdout",
          "text": [
            "Epoch 1/50\n",
            "48/48 [==============================] - 5s 82ms/step - loss: 1.1322 - accuracy: 0.9888 - val_loss: 0.1408 - val_accuracy: 0.9767\n",
            "Epoch 2/50\n",
            "48/48 [==============================] - 6s 121ms/step - loss: 0.0584 - accuracy: 0.9972 - val_loss: 0.1245 - val_accuracy: 0.9833\n",
            "Epoch 3/50\n",
            "48/48 [==============================] - 4s 86ms/step - loss: 0.0622 - accuracy: 0.9937 - val_loss: 0.1134 - val_accuracy: 0.9867\n",
            "Epoch 4/50\n",
            "48/48 [==============================] - 4s 85ms/step - loss: 0.0591 - accuracy: 0.9965 - val_loss: 0.1048 - val_accuracy: 0.9867\n",
            "Epoch 5/50\n",
            "48/48 [==============================] - 5s 108ms/step - loss: 0.0513 - accuracy: 0.9979 - val_loss: 0.0979 - val_accuracy: 0.9900\n",
            "Epoch 6/50\n",
            "48/48 [==============================] - 4s 85ms/step - loss: 0.0495 - accuracy: 0.9972 - val_loss: 0.0929 - val_accuracy: 0.9933\n",
            "Epoch 7/50\n",
            "48/48 [==============================] - 4s 85ms/step - loss: 0.0526 - accuracy: 0.9958 - val_loss: 0.0880 - val_accuracy: 0.9933\n",
            "Epoch 8/50\n",
            "48/48 [==============================] - 5s 110ms/step - loss: 0.0464 - accuracy: 0.9958 - val_loss: 0.0849 - val_accuracy: 0.9933\n",
            "Epoch 9/50\n",
            "48/48 [==============================] - 4s 86ms/step - loss: 0.0454 - accuracy: 0.9979 - val_loss: 0.0824 - val_accuracy: 0.9933\n",
            "Epoch 10/50\n",
            "48/48 [==============================] - 4s 85ms/step - loss: 0.0451 - accuracy: 0.9965 - val_loss: 0.0795 - val_accuracy: 0.9933\n",
            "Epoch 11/50\n",
            "48/48 [==============================] - 5s 110ms/step - loss: 0.0468 - accuracy: 0.9937 - val_loss: 0.0768 - val_accuracy: 0.9933\n",
            "Epoch 12/50\n",
            "48/48 [==============================] - 4s 86ms/step - loss: 0.0404 - accuracy: 0.9979 - val_loss: 0.0748 - val_accuracy: 0.9933\n",
            "Epoch 13/50\n",
            "48/48 [==============================] - 5s 105ms/step - loss: 0.0422 - accuracy: 0.9972 - val_loss: 0.0731 - val_accuracy: 0.9933\n",
            "Epoch 14/50\n",
            "48/48 [==============================] - 5s 97ms/step - loss: 0.0431 - accuracy: 0.9965 - val_loss: 0.0714 - val_accuracy: 0.9933\n",
            "Epoch 15/50\n",
            "48/48 [==============================] - 4s 85ms/step - loss: 0.0369 - accuracy: 0.9986 - val_loss: 0.0699 - val_accuracy: 0.9933\n",
            "Epoch 16/50\n",
            "48/48 [==============================] - 5s 95ms/step - loss: 0.0393 - accuracy: 0.9965 - val_loss: 0.0687 - val_accuracy: 0.9900\n",
            "Epoch 17/50\n",
            "48/48 [==============================] - 5s 96ms/step - loss: 0.0381 - accuracy: 0.9979 - val_loss: 0.0677 - val_accuracy: 0.9900\n",
            "Epoch 18/50\n",
            "48/48 [==============================] - 4s 87ms/step - loss: 0.0337 - accuracy: 0.9972 - val_loss: 0.0666 - val_accuracy: 0.9900\n",
            "Epoch 19/50\n",
            "48/48 [==============================] - 5s 104ms/step - loss: 0.0351 - accuracy: 0.9986 - val_loss: 0.0658 - val_accuracy: 0.9900\n",
            "Epoch 20/50\n",
            "48/48 [==============================] - 5s 95ms/step - loss: 0.0323 - accuracy: 1.0000 - val_loss: 0.0645 - val_accuracy: 0.9900\n",
            "Epoch 21/50\n",
            "48/48 [==============================] - 6s 134ms/step - loss: 0.0321 - accuracy: 0.9979 - val_loss: 0.0636 - val_accuracy: 0.9900\n",
            "Epoch 22/50\n",
            "48/48 [==============================] - 7s 155ms/step - loss: 0.0925 - accuracy: 0.9972 - val_loss: 0.0626 - val_accuracy: 0.9900\n",
            "Epoch 23/50\n",
            "48/48 [==============================] - 6s 132ms/step - loss: 0.0334 - accuracy: 0.9958 - val_loss: 0.0619 - val_accuracy: 0.9900\n",
            "Epoch 24/50\n",
            "48/48 [==============================] - 9s 182ms/step - loss: 0.0314 - accuracy: 0.9979 - val_loss: 0.0608 - val_accuracy: 0.9900\n",
            "Epoch 25/50\n",
            "48/48 [==============================] - 5s 99ms/step - loss: 0.0265 - accuracy: 0.9993 - val_loss: 0.0601 - val_accuracy: 0.9900\n",
            "Epoch 26/50\n",
            "48/48 [==============================] - 5s 111ms/step - loss: 0.0257 - accuracy: 1.0000 - val_loss: 0.0593 - val_accuracy: 0.9900\n",
            "Epoch 27/50\n",
            "48/48 [==============================] - 4s 88ms/step - loss: 0.0274 - accuracy: 0.9965 - val_loss: 0.0589 - val_accuracy: 0.9900\n",
            "Epoch 28/50\n",
            "48/48 [==============================] - 5s 110ms/step - loss: 0.0270 - accuracy: 0.9972 - val_loss: 0.0584 - val_accuracy: 0.9900\n",
            "Epoch 29/50\n",
            "48/48 [==============================] - 4s 83ms/step - loss: 0.0265 - accuracy: 0.9993 - val_loss: 1.0658 - val_accuracy: 0.9833\n",
            "Epoch 30/50\n",
            "48/48 [==============================] - 4s 86ms/step - loss: 0.2924 - accuracy: 0.9979 - val_loss: 0.0592 - val_accuracy: 0.9867\n",
            "Epoch 31/50\n",
            "48/48 [==============================] - 5s 108ms/step - loss: 0.0263 - accuracy: 0.9986 - val_loss: 0.0586 - val_accuracy: 0.9867\n",
            "Epoch 32/50\n",
            "48/48 [==============================] - 4s 85ms/step - loss: 0.0276 - accuracy: 0.9986 - val_loss: 0.0577 - val_accuracy: 0.9867\n",
            "Epoch 33/50\n",
            "48/48 [==============================] - 4s 89ms/step - loss: 0.0249 - accuracy: 1.0000 - val_loss: 0.0571 - val_accuracy: 0.9867\n",
            "Epoch 34/50\n",
            "48/48 [==============================] - 6s 128ms/step - loss: 0.0240 - accuracy: 1.0000 - val_loss: 0.0566 - val_accuracy: 0.9900\n",
            "Epoch 35/50\n",
            "48/48 [==============================] - 4s 84ms/step - loss: 0.0229 - accuracy: 0.9993 - val_loss: 0.0563 - val_accuracy: 0.9900\n",
            "Epoch 36/50\n",
            "48/48 [==============================] - 4s 90ms/step - loss: 0.0227 - accuracy: 0.9979 - val_loss: 0.0561 - val_accuracy: 0.9900\n",
            "Epoch 37/50\n",
            "48/48 [==============================] - 5s 104ms/step - loss: 0.0245 - accuracy: 0.9979 - val_loss: 0.0556 - val_accuracy: 0.9900\n",
            "Epoch 38/50\n",
            "48/48 [==============================] - 5s 103ms/step - loss: 0.0230 - accuracy: 0.9993 - val_loss: 0.0557 - val_accuracy: 0.9900\n",
            "Epoch 39/50\n",
            "48/48 [==============================] - 5s 110ms/step - loss: 0.0223 - accuracy: 0.9986 - val_loss: 0.0553 - val_accuracy: 0.9867\n",
            "Epoch 40/50\n",
            "48/48 [==============================] - 4s 86ms/step - loss: 0.0230 - accuracy: 0.9979 - val_loss: 0.0550 - val_accuracy: 0.9867\n",
            "Epoch 41/50\n",
            "48/48 [==============================] - 4s 87ms/step - loss: 0.0237 - accuracy: 0.9965 - val_loss: 0.0548 - val_accuracy: 0.9867\n",
            "Epoch 42/50\n",
            "48/48 [==============================] - 5s 113ms/step - loss: 0.0216 - accuracy: 0.9993 - val_loss: 0.0548 - val_accuracy: 0.9867\n",
            "Epoch 43/50\n",
            "48/48 [==============================] - 4s 86ms/step - loss: 0.0212 - accuracy: 1.0000 - val_loss: 0.0547 - val_accuracy: 0.9867\n",
            "Epoch 44/50\n",
            "48/48 [==============================] - 4s 87ms/step - loss: 0.0206 - accuracy: 0.9972 - val_loss: 0.0544 - val_accuracy: 0.9867\n",
            "Epoch 45/50\n",
            "48/48 [==============================] - 5s 108ms/step - loss: 0.0197 - accuracy: 0.9993 - val_loss: 0.0546 - val_accuracy: 0.9867\n",
            "Epoch 46/50\n",
            "48/48 [==============================] - 4s 84ms/step - loss: 0.0185 - accuracy: 0.9986 - val_loss: 0.0544 - val_accuracy: 0.9867\n",
            "Epoch 47/50\n",
            "48/48 [==============================] - 5s 108ms/step - loss: 0.0177 - accuracy: 1.0000 - val_loss: 0.0543 - val_accuracy: 0.9867\n",
            "Epoch 48/50\n",
            "48/48 [==============================] - 5s 108ms/step - loss: 0.0193 - accuracy: 0.9986 - val_loss: 0.0543 - val_accuracy: 0.9867\n",
            "Epoch 49/50\n",
            "48/48 [==============================] - 4s 87ms/step - loss: 0.0209 - accuracy: 0.9972 - val_loss: 0.0542 - val_accuracy: 0.9867\n",
            "Epoch 50/50\n",
            "48/48 [==============================] - 7s 155ms/step - loss: 0.0182 - accuracy: 0.9979 - val_loss: 0.0539 - val_accuracy: 0.9867\n"
          ]
        }
      ]
    },
    {
      "cell_type": "code",
      "source": [
        "news_test =pd.read_csv(\"/content/news_topic_test.csv\")"
      ],
      "metadata": {
        "id": "WbWIO84IJ3vw"
      },
      "execution_count": 261,
      "outputs": []
    },
    {
      "cell_type": "code",
      "source": [
        "news_test['text'] = news_test['text'] + \" \" + news_test['title']\n",
        "del news_test['title']\n"
      ],
      "metadata": {
        "id": "g8U0d2_lJvPj"
      },
      "execution_count": 262,
      "outputs": []
    },
    {
      "cell_type": "code",
      "source": [
        "news_test['text']=news_test['text'].apply(denoise_text)"
      ],
      "metadata": {
        "id": "22hsdL0QKJGR"
      },
      "execution_count": 263,
      "outputs": []
    },
    {
      "cell_type": "code",
      "source": [
        "tokenized_test = tokenizer.texts_to_sequences(news_test['text'])\n",
        "test = sequence.pad_sequences(tokenized_test, maxlen=embed_dim )"
      ],
      "metadata": {
        "id": "Cwq_ZBM7KN8q"
      },
      "execution_count": 264,
      "outputs": []
    },
    {
      "cell_type": "code",
      "source": [
        "pred_y=test_model.predict(test)"
      ],
      "metadata": {
        "id": "YxTOgbGbbmYF",
        "colab": {
          "base_uri": "https://localhost:8080/"
        },
        "outputId": "d9dc55e3-0aa7-4d5b-d961-f0e664e4ef61"
      },
      "execution_count": 267,
      "outputs": [
        {
          "output_type": "stream",
          "name": "stdout",
          "text": [
            "14/14 [==============================] - 1s 19ms/step\n"
          ]
        }
      ]
    },
    {
      "cell_type": "code",
      "source": [
        "pred_y"
      ],
      "metadata": {
        "colab": {
          "base_uri": "https://localhost:8080/"
        },
        "id": "cGgwk_YCK2GC",
        "outputId": "5dccf2e0-ae8a-436d-bd6d-161eed3dbfba"
      },
      "execution_count": 268,
      "outputs": [
        {
          "output_type": "execute_result",
          "data": {
            "text/plain": [
              "array([[2.31164298e-03, 5.04124016e-02, 9.20701027e-01, 2.17509195e-02,\n",
              "        4.82399203e-03],\n",
              "       [1.41248347e-06, 9.99914467e-01, 3.65354463e-05, 3.11776712e-05,\n",
              "        1.62624765e-05],\n",
              "       [1.56482533e-02, 9.75613892e-02, 7.03051835e-02, 1.80249259e-01,\n",
              "        6.36235952e-01],\n",
              "       ...,\n",
              "       [5.80752552e-01, 3.38563509e-02, 1.10383846e-01, 6.68935701e-02,\n",
              "        2.08113655e-01],\n",
              "       [4.10604440e-02, 5.89646399e-01, 1.60212114e-01, 1.35658905e-01,\n",
              "        7.34221116e-02],\n",
              "       [1.79414892e-05, 9.99768794e-01, 1.51001450e-06, 1.63248318e-04,\n",
              "        4.83429794e-05]], dtype=float32)"
            ]
          },
          "metadata": {},
          "execution_count": 268
        }
      ]
    },
    {
      "cell_type": "code",
      "source": [
        "id_to_category = {0: 'business', 1: 'tech', 2: 'politics', 3: 'sport', 4: 'entertainment'}"
      ],
      "metadata": {
        "id": "kCee8EHOMWuo"
      },
      "execution_count": null,
      "outputs": []
    },
    {
      "cell_type": "code",
      "source": [
        "final_pred = np.round(pred_y).astype(int)\n",
        "final_pred"
      ],
      "metadata": {
        "id": "gnfEZcd7bmQ0",
        "colab": {
          "base_uri": "https://localhost:8080/"
        },
        "outputId": "3ea92e11-b936-423e-9890-d8316e55bb89"
      },
      "execution_count": 273,
      "outputs": [
        {
          "output_type": "execute_result",
          "data": {
            "text/plain": [
              "array([[0, 0, 1, 0, 0],\n",
              "       [0, 1, 0, 0, 0],\n",
              "       [0, 0, 0, 0, 1],\n",
              "       ...,\n",
              "       [1, 0, 0, 0, 0],\n",
              "       [0, 1, 0, 0, 0],\n",
              "       [0, 1, 0, 0, 0]])"
            ]
          },
          "metadata": {},
          "execution_count": 273
        }
      ]
    },
    {
      "cell_type": "code",
      "source": [
        "y = np.argmax(final_pred, axis=-1)\n"
      ],
      "metadata": {
        "id": "IpeI7S6hNnBf"
      },
      "execution_count": 274,
      "outputs": []
    },
    {
      "cell_type": "code",
      "source": [
        "y"
      ],
      "metadata": {
        "id": "kVNSSCcwbmOL",
        "colab": {
          "base_uri": "https://localhost:8080/"
        },
        "outputId": "8bb9f1f4-1d65-469a-a881-c565907d674c"
      },
      "execution_count": 275,
      "outputs": [
        {
          "output_type": "execute_result",
          "data": {
            "text/plain": [
              "array([2, 1, 4, 2, 0, 4, 3, 0, 1, 0, 2, 1, 4, 4, 1, 1, 3, 1, 2, 1, 2, 3,\n",
              "       2, 1, 4, 0, 4, 3, 2, 4, 4, 0, 3, 1, 2, 1, 2, 3, 3, 0, 0, 0, 2, 4,\n",
              "       3, 2, 3, 1, 2, 3, 1, 1, 0, 2, 1, 0, 0, 4, 2, 2, 4, 3, 1, 2, 4, 1,\n",
              "       2, 2, 0, 4, 1, 0, 3, 1, 2, 3, 0, 0, 2, 3, 3, 0, 3, 1, 1, 3, 3, 0,\n",
              "       1, 4, 4, 2, 0, 2, 4, 2, 1, 0, 2, 0, 0, 0, 4, 2, 4, 0, 4, 3, 1, 0,\n",
              "       0, 3, 1, 2, 0, 4, 1, 1, 1, 0, 1, 0, 3, 0, 3, 0, 3, 1, 2, 1, 4, 1,\n",
              "       0, 4, 4, 2, 2, 2, 1, 3, 3, 2, 0, 0, 3, 0, 0, 4, 2, 0, 4, 1, 2, 0,\n",
              "       2, 4, 2, 2, 2, 1, 3, 1, 4, 0, 3, 1, 2, 2, 3, 1, 0, 3, 3, 1, 0, 3,\n",
              "       0, 0, 0, 4, 0, 3, 2, 0, 3, 0, 3, 4, 3, 2, 0, 4, 2, 0, 0, 1, 3, 0,\n",
              "       0, 3, 0, 0, 2, 3, 2, 0, 2, 4, 4, 2, 0, 0, 0, 0, 0, 2, 3, 3, 0, 3,\n",
              "       2, 2, 2, 0, 2, 0, 0, 0, 0, 1, 4, 4, 1, 0, 3, 3, 1, 4, 3, 2, 3, 2,\n",
              "       0, 4, 1, 3, 2, 2, 3, 2, 0, 4, 0, 2, 1, 3, 1, 3, 4, 0, 0, 0, 2, 1,\n",
              "       4, 1, 0, 4, 1, 1, 1, 2, 2, 1, 2, 4, 1, 0, 1, 0, 2, 2, 2, 2, 1, 3,\n",
              "       0, 1, 0, 3, 2, 3, 2, 0, 0, 3, 2, 2, 1, 0, 1, 0, 3, 0, 3, 1, 2, 0,\n",
              "       2, 1, 4, 2, 4, 3, 3, 3, 0, 2, 4, 4, 0, 3, 2, 2, 1, 2, 0, 0, 4, 2,\n",
              "       0, 0, 4, 2, 0, 4, 0, 0, 1, 0, 2, 3, 3, 2, 1, 2, 0, 1, 4, 3, 3, 3,\n",
              "       1, 2, 0, 4, 3, 0, 3, 3, 0, 3, 2, 3, 4, 3, 0, 0, 1, 0, 2, 3, 3, 2,\n",
              "       3, 2, 0, 0, 2, 3, 0, 4, 3, 2, 2, 4, 0, 3, 0, 1, 0, 0, 4, 4, 4, 2,\n",
              "       4, 4, 1, 3, 3, 3, 1, 0, 0, 2, 1, 1, 2, 3, 3, 1, 3, 4, 3, 4, 4, 0,\n",
              "       3, 0, 1, 0, 1, 0, 4, 0, 1, 0, 0, 0, 0, 2, 1, 3, 4, 3, 3, 3, 0, 0,\n",
              "       2, 2, 0, 1, 1])"
            ]
          },
          "metadata": {},
          "execution_count": 275
        }
      ]
    },
    {
      "cell_type": "code",
      "source": [
        "id_to_category = {0: 'business', 1: 'tech', 2: 'politics', 3: 'sport', 4: 'entertainment'}"
      ],
      "metadata": {
        "id": "bSRISfTQbmJ2"
      },
      "execution_count": null,
      "outputs": []
    },
    {
      "cell_type": "code",
      "source": [
        "df = pd.DataFrame(y, columns = [\"label\"])\n"
      ],
      "metadata": {
        "id": "3a5inWQ4bmAq"
      },
      "execution_count": 278,
      "outputs": []
    },
    {
      "cell_type": "code",
      "source": [
        "df"
      ],
      "metadata": {
        "colab": {
          "base_uri": "https://localhost:8080/",
          "height": 423
        },
        "id": "wPyHYXYZPCn_",
        "outputId": "8a1a5dbd-7302-4c14-f870-847f5ad3092e"
      },
      "execution_count": 279,
      "outputs": [
        {
          "output_type": "execute_result",
          "data": {
            "text/plain": [
              "     label\n",
              "0        2\n",
              "1        1\n",
              "2        4\n",
              "3        2\n",
              "4        0\n",
              "..     ...\n",
              "440      2\n",
              "441      2\n",
              "442      0\n",
              "443      1\n",
              "444      1\n",
              "\n",
              "[445 rows x 1 columns]"
            ],
            "text/html": [
              "\n",
              "  <div id=\"df-bfb868fc-3bcd-4482-8420-6441590fbedb\">\n",
              "    <div class=\"colab-df-container\">\n",
              "      <div>\n",
              "<style scoped>\n",
              "    .dataframe tbody tr th:only-of-type {\n",
              "        vertical-align: middle;\n",
              "    }\n",
              "\n",
              "    .dataframe tbody tr th {\n",
              "        vertical-align: top;\n",
              "    }\n",
              "\n",
              "    .dataframe thead th {\n",
              "        text-align: right;\n",
              "    }\n",
              "</style>\n",
              "<table border=\"1\" class=\"dataframe\">\n",
              "  <thead>\n",
              "    <tr style=\"text-align: right;\">\n",
              "      <th></th>\n",
              "      <th>label</th>\n",
              "    </tr>\n",
              "  </thead>\n",
              "  <tbody>\n",
              "    <tr>\n",
              "      <th>0</th>\n",
              "      <td>2</td>\n",
              "    </tr>\n",
              "    <tr>\n",
              "      <th>1</th>\n",
              "      <td>1</td>\n",
              "    </tr>\n",
              "    <tr>\n",
              "      <th>2</th>\n",
              "      <td>4</td>\n",
              "    </tr>\n",
              "    <tr>\n",
              "      <th>3</th>\n",
              "      <td>2</td>\n",
              "    </tr>\n",
              "    <tr>\n",
              "      <th>4</th>\n",
              "      <td>0</td>\n",
              "    </tr>\n",
              "    <tr>\n",
              "      <th>...</th>\n",
              "      <td>...</td>\n",
              "    </tr>\n",
              "    <tr>\n",
              "      <th>440</th>\n",
              "      <td>2</td>\n",
              "    </tr>\n",
              "    <tr>\n",
              "      <th>441</th>\n",
              "      <td>2</td>\n",
              "    </tr>\n",
              "    <tr>\n",
              "      <th>442</th>\n",
              "      <td>0</td>\n",
              "    </tr>\n",
              "    <tr>\n",
              "      <th>443</th>\n",
              "      <td>1</td>\n",
              "    </tr>\n",
              "    <tr>\n",
              "      <th>444</th>\n",
              "      <td>1</td>\n",
              "    </tr>\n",
              "  </tbody>\n",
              "</table>\n",
              "<p>445 rows × 1 columns</p>\n",
              "</div>\n",
              "      <button class=\"colab-df-convert\" onclick=\"convertToInteractive('df-bfb868fc-3bcd-4482-8420-6441590fbedb')\"\n",
              "              title=\"Convert this dataframe to an interactive table.\"\n",
              "              style=\"display:none;\">\n",
              "        \n",
              "  <svg xmlns=\"http://www.w3.org/2000/svg\" height=\"24px\"viewBox=\"0 0 24 24\"\n",
              "       width=\"24px\">\n",
              "    <path d=\"M0 0h24v24H0V0z\" fill=\"none\"/>\n",
              "    <path d=\"M18.56 5.44l.94 2.06.94-2.06 2.06-.94-2.06-.94-.94-2.06-.94 2.06-2.06.94zm-11 1L8.5 8.5l.94-2.06 2.06-.94-2.06-.94L8.5 2.5l-.94 2.06-2.06.94zm10 10l.94 2.06.94-2.06 2.06-.94-2.06-.94-.94-2.06-.94 2.06-2.06.94z\"/><path d=\"M17.41 7.96l-1.37-1.37c-.4-.4-.92-.59-1.43-.59-.52 0-1.04.2-1.43.59L10.3 9.45l-7.72 7.72c-.78.78-.78 2.05 0 2.83L4 21.41c.39.39.9.59 1.41.59.51 0 1.02-.2 1.41-.59l7.78-7.78 2.81-2.81c.8-.78.8-2.07 0-2.86zM5.41 20L4 18.59l7.72-7.72 1.47 1.35L5.41 20z\"/>\n",
              "  </svg>\n",
              "      </button>\n",
              "      \n",
              "  <style>\n",
              "    .colab-df-container {\n",
              "      display:flex;\n",
              "      flex-wrap:wrap;\n",
              "      gap: 12px;\n",
              "    }\n",
              "\n",
              "    .colab-df-convert {\n",
              "      background-color: #E8F0FE;\n",
              "      border: none;\n",
              "      border-radius: 50%;\n",
              "      cursor: pointer;\n",
              "      display: none;\n",
              "      fill: #1967D2;\n",
              "      height: 32px;\n",
              "      padding: 0 0 0 0;\n",
              "      width: 32px;\n",
              "    }\n",
              "\n",
              "    .colab-df-convert:hover {\n",
              "      background-color: #E2EBFA;\n",
              "      box-shadow: 0px 1px 2px rgba(60, 64, 67, 0.3), 0px 1px 3px 1px rgba(60, 64, 67, 0.15);\n",
              "      fill: #174EA6;\n",
              "    }\n",
              "\n",
              "    [theme=dark] .colab-df-convert {\n",
              "      background-color: #3B4455;\n",
              "      fill: #D2E3FC;\n",
              "    }\n",
              "\n",
              "    [theme=dark] .colab-df-convert:hover {\n",
              "      background-color: #434B5C;\n",
              "      box-shadow: 0px 1px 3px 1px rgba(0, 0, 0, 0.15);\n",
              "      filter: drop-shadow(0px 1px 2px rgba(0, 0, 0, 0.3));\n",
              "      fill: #FFFFFF;\n",
              "    }\n",
              "  </style>\n",
              "\n",
              "      <script>\n",
              "        const buttonEl =\n",
              "          document.querySelector('#df-bfb868fc-3bcd-4482-8420-6441590fbedb button.colab-df-convert');\n",
              "        buttonEl.style.display =\n",
              "          google.colab.kernel.accessAllowed ? 'block' : 'none';\n",
              "\n",
              "        async function convertToInteractive(key) {\n",
              "          const element = document.querySelector('#df-bfb868fc-3bcd-4482-8420-6441590fbedb');\n",
              "          const dataTable =\n",
              "            await google.colab.kernel.invokeFunction('convertToInteractive',\n",
              "                                                     [key], {});\n",
              "          if (!dataTable) return;\n",
              "\n",
              "          const docLinkHtml = 'Like what you see? Visit the ' +\n",
              "            '<a target=\"_blank\" href=https://colab.research.google.com/notebooks/data_table.ipynb>data table notebook</a>'\n",
              "            + ' to learn more about interactive tables.';\n",
              "          element.innerHTML = '';\n",
              "          dataTable['output_type'] = 'display_data';\n",
              "          await google.colab.output.renderOutput(dataTable, element);\n",
              "          const docLink = document.createElement('div');\n",
              "          docLink.innerHTML = docLinkHtml;\n",
              "          element.appendChild(docLink);\n",
              "        }\n",
              "      </script>\n",
              "    </div>\n",
              "  </div>\n",
              "  "
            ]
          },
          "metadata": {},
          "execution_count": 279
        }
      ]
    },
    {
      "cell_type": "code",
      "source": [
        "submission = pd.DataFrame({'Id':news_test['Id'],'label':df['label']})\n"
      ],
      "metadata": {
        "id": "KeKFAA2aPIbF"
      },
      "execution_count": 280,
      "outputs": []
    },
    {
      "cell_type": "code",
      "execution_count": 281,
      "metadata": {
        "id": "tMr0kXEQP0yj"
      },
      "outputs": [],
      "source": [
        "submission = submission.replace(id_to_category)\n",
        "submission.to_csv('Submission.csv',header=False,index=False)\n"
      ]
    }
  ],
  "metadata": {
    "colab": {
      "provenance": []
    },
    "kernelspec": {
      "display_name": "Python 3",
      "name": "python3"
    },
    "language_info": {
      "name": "python"
    }
  },
  "nbformat": 4,
  "nbformat_minor": 0
}